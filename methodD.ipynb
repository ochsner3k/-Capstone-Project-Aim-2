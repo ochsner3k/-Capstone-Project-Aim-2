{
 "cells": [
  {
   "cell_type": "markdown",
   "id": "afdf4205",
   "metadata": {},
   "source": [
    "## Method D - Unique Contribution: Ensemble Model"
   ]
  },
  {
   "cell_type": "code",
   "execution_count": 1,
   "id": "ce1d66b3",
   "metadata": {},
   "outputs": [
    {
     "name": "stdout",
     "output_type": "stream",
     "text": [
      "Applied one-hot encoding: (3998, 5)\n"
     ]
    }
   ],
   "source": [
    "import numpy as np\n",
    "import matplotlib.pyplot as plt\n",
    "import seaborn as sns\n",
    "from sklearn.metrics import classification_report, confusion_matrix\n",
    "\n",
    "from ecgLoader import load_ecg5000\n",
    "from tensorflow.keras import layers, models, Input\n",
    "\n",
    "X_train, X_test, y_train, y_test = load_ecg5000(one_hot=True)\n",
    "X_train = X_train[..., np.newaxis]\n",
    "X_test = X_test[..., np.newaxis]\n",
    "\n"
   ]
  },
  {
   "cell_type": "code",
   "execution_count": 2,
   "id": "0568a8f5",
   "metadata": {},
   "outputs": [],
   "source": [
    "def attention_block(inputs):\n",
    "    attention = layers.Dense(1, activation='tanh')(inputs)\n",
    "    attention = layers.Flatten()(attention)\n",
    "    attention = layers.Activation('softmax')(attention)\n",
    "    attention = layers.RepeatVector(inputs.shape[-1])(attention)\n",
    "    attention = layers.Permute([2, 1])(attention)\n",
    "    return layers.Multiply()([inputs, attention])\n",
    "\n",
    "def build_cnn_attention_model(input_shape=(140, 1), num_classes=5):\n",
    "    inputs = Input(shape=input_shape)\n",
    "    x = layers.Conv1D(64, kernel_size=5, activation='relu', padding='same')(inputs)\n",
    "    x = layers.MaxPooling1D(pool_size=2)(x)\n",
    "    x = layers.Conv1D(128, kernel_size=3, activation='relu', padding='same')(x)\n",
    "    x = layers.MaxPooling1D(pool_size=2)(x)\n",
    "    x = attention_block(x)\n",
    "    x = layers.Flatten()(x)\n",
    "    x = layers.Dense(64, activation='relu')(x)\n",
    "    outputs = layers.Dense(num_classes, activation='softmax')(x)\n",
    "    model = models.Model(inputs=inputs, outputs=outputs)\n",
    "    model.compile(optimizer='adam', loss='categorical_crossentropy', metrics=['accuracy'])\n",
    "    return model\n",
    "\n",
    "def residual_block(x, filters, kernel_size=3, stride=1):\n",
    "    shortcut = x\n",
    "    x = layers.Conv1D(filters, kernel_size, padding='same', strides=stride)(x)\n",
    "    x = layers.BatchNormalization()(x)\n",
    "    x = layers.ReLU()(x)\n",
    "    x = layers.Conv1D(filters, kernel_size, padding='same')(x)\n",
    "    x = layers.BatchNormalization()(x)\n",
    "\n",
    "    if shortcut.shape[-1] != x.shape[-1]:\n",
    "        shortcut = layers.Conv1D(filters, kernel_size=1, padding='same')(shortcut)\n",
    "\n",
    "    x = layers.Add()([x, shortcut])\n",
    "    x = layers.ReLU()(x)\n",
    "    return x\n",
    "\n",
    "def build_resnet_model(input_shape=(140, 1), num_classes=5):\n",
    "    inputs = Input(shape=input_shape)\n",
    "    x = layers.Conv1D(64, kernel_size=7, strides=2, padding='same')(inputs)\n",
    "    x = layers.BatchNormalization()(x)\n",
    "    x = layers.ReLU()(x)\n",
    "    x = layers.MaxPooling1D(pool_size=3, strides=2, padding='same')(x)\n",
    "\n",
    "    x = residual_block(x, 64)\n",
    "    x = residual_block(x, 128)\n",
    "\n",
    "    x = layers.GlobalAveragePooling1D()(x)\n",
    "    x = layers.Dense(64, activation='relu')(x)\n",
    "    outputs = layers.Dense(num_classes, activation='softmax')(x)\n",
    "\n",
    "    model = models.Model(inputs, outputs)\n",
    "    model.compile(optimizer='adam', loss='categorical_crossentropy', metrics=['accuracy'])\n",
    "    return model"
   ]
  },
  {
   "cell_type": "code",
   "execution_count": 3,
   "id": "6666c9b6",
   "metadata": {},
   "outputs": [
    {
     "name": "stdout",
     "output_type": "stream",
     "text": [
      "Training CNN + Attention (Method A)...\n",
      "Epoch 1/15\n",
      "\u001b[1m50/50\u001b[0m \u001b[32m━━━━━━━━━━━━━━━━━━━━\u001b[0m\u001b[37m\u001b[0m \u001b[1m4s\u001b[0m 26ms/step - accuracy: 0.8463 - loss: 1.0610 - val_accuracy: 0.9750 - val_loss: 0.1201\n",
      "Epoch 2/15\n",
      "\u001b[1m50/50\u001b[0m \u001b[32m━━━━━━━━━━━━━━━━━━━━\u001b[0m\u001b[37m\u001b[0m \u001b[1m1s\u001b[0m 21ms/step - accuracy: 0.9792 - loss: 0.0702 - val_accuracy: 0.9812 - val_loss: 0.0865\n",
      "Epoch 3/15\n",
      "\u001b[1m50/50\u001b[0m \u001b[32m━━━━━━━━━━━━━━━━━━━━\u001b[0m\u001b[37m\u001b[0m \u001b[1m1s\u001b[0m 18ms/step - accuracy: 0.9847 - loss: 0.0586 - val_accuracy: 0.9725 - val_loss: 0.0848\n",
      "Epoch 4/15\n",
      "\u001b[1m50/50\u001b[0m \u001b[32m━━━━━━━━━━━━━━━━━━━━\u001b[0m\u001b[37m\u001b[0m \u001b[1m1s\u001b[0m 24ms/step - accuracy: 0.9788 - loss: 0.0670 - val_accuracy: 0.9787 - val_loss: 0.0715\n",
      "Epoch 5/15\n",
      "\u001b[1m50/50\u001b[0m \u001b[32m━━━━━━━━━━━━━━━━━━━━\u001b[0m\u001b[37m\u001b[0m \u001b[1m1s\u001b[0m 27ms/step - accuracy: 0.9844 - loss: 0.0541 - val_accuracy: 0.9787 - val_loss: 0.0677\n",
      "Epoch 6/15\n",
      "\u001b[1m50/50\u001b[0m \u001b[32m━━━━━━━━━━━━━━━━━━━━\u001b[0m\u001b[37m\u001b[0m \u001b[1m3s\u001b[0m 38ms/step - accuracy: 0.9875 - loss: 0.0411 - val_accuracy: 0.9812 - val_loss: 0.0564\n",
      "Epoch 7/15\n",
      "\u001b[1m50/50\u001b[0m \u001b[32m━━━━━━━━━━━━━━━━━━━━\u001b[0m\u001b[37m\u001b[0m \u001b[1m3s\u001b[0m 38ms/step - accuracy: 0.9869 - loss: 0.0435 - val_accuracy: 0.9787 - val_loss: 0.0645\n",
      "Epoch 8/15\n",
      "\u001b[1m50/50\u001b[0m \u001b[32m━━━━━━━━━━━━━━━━━━━━\u001b[0m\u001b[37m\u001b[0m \u001b[1m3s\u001b[0m 62ms/step - accuracy: 0.9926 - loss: 0.0339 - val_accuracy: 0.9837 - val_loss: 0.0596\n",
      "Epoch 9/15\n",
      "\u001b[1m50/50\u001b[0m \u001b[32m━━━━━━━━━━━━━━━━━━━━\u001b[0m\u001b[37m\u001b[0m \u001b[1m5s\u001b[0m 59ms/step - accuracy: 0.9902 - loss: 0.0289 - val_accuracy: 0.9800 - val_loss: 0.0554\n",
      "Epoch 10/15\n",
      "\u001b[1m50/50\u001b[0m \u001b[32m━━━━━━━━━━━━━━━━━━━━\u001b[0m\u001b[37m\u001b[0m \u001b[1m3s\u001b[0m 63ms/step - accuracy: 0.9904 - loss: 0.0313 - val_accuracy: 0.9812 - val_loss: 0.0552\n",
      "Epoch 11/15\n",
      "\u001b[1m50/50\u001b[0m \u001b[32m━━━━━━━━━━━━━━━━━━━━\u001b[0m\u001b[37m\u001b[0m \u001b[1m3s\u001b[0m 59ms/step - accuracy: 0.9939 - loss: 0.0227 - val_accuracy: 0.9837 - val_loss: 0.0450\n",
      "Epoch 12/15\n",
      "\u001b[1m50/50\u001b[0m \u001b[32m━━━━━━━━━━━━━━━━━━━━\u001b[0m\u001b[37m\u001b[0m \u001b[1m6s\u001b[0m 68ms/step - accuracy: 0.9918 - loss: 0.0262 - val_accuracy: 0.9862 - val_loss: 0.0421\n",
      "Epoch 13/15\n",
      "\u001b[1m50/50\u001b[0m \u001b[32m━━━━━━━━━━━━━━━━━━━━\u001b[0m\u001b[37m\u001b[0m \u001b[1m4s\u001b[0m 75ms/step - accuracy: 0.9948 - loss: 0.0210 - val_accuracy: 0.9837 - val_loss: 0.0502\n",
      "Epoch 14/15\n",
      "\u001b[1m50/50\u001b[0m \u001b[32m━━━━━━━━━━━━━━━━━━━━\u001b[0m\u001b[37m\u001b[0m \u001b[1m4s\u001b[0m 66ms/step - accuracy: 0.9961 - loss: 0.0194 - val_accuracy: 0.9825 - val_loss: 0.0463\n",
      "Epoch 15/15\n",
      "\u001b[1m50/50\u001b[0m \u001b[32m━━━━━━━━━━━━━━━━━━━━\u001b[0m\u001b[37m\u001b[0m \u001b[1m3s\u001b[0m 62ms/step - accuracy: 0.9945 - loss: 0.0257 - val_accuracy: 0.9800 - val_loss: 0.0534\n",
      "Training Improved ResNet (Method B)...\n",
      "Epoch 1/15\n",
      "\u001b[1m50/50\u001b[0m \u001b[32m━━━━━━━━━━━━━━━━━━━━\u001b[0m\u001b[37m\u001b[0m \u001b[1m48s\u001b[0m 175ms/step - accuracy: 0.7854 - loss: 0.6232 - val_accuracy: 0.5225 - val_loss: 0.7725\n",
      "Epoch 2/15\n",
      "\u001b[1m50/50\u001b[0m \u001b[32m━━━━━━━━━━━━━━━━━━━━\u001b[0m\u001b[37m\u001b[0m \u001b[1m5s\u001b[0m 88ms/step - accuracy: 0.9862 - loss: 0.0522 - val_accuracy: 0.9087 - val_loss: 0.5181\n",
      "Epoch 3/15\n",
      "\u001b[1m50/50\u001b[0m \u001b[32m━━━━━━━━━━━━━━━━━━━━\u001b[0m\u001b[37m\u001b[0m \u001b[1m4s\u001b[0m 81ms/step - accuracy: 0.9834 - loss: 0.0561 - val_accuracy: 0.8462 - val_loss: 0.4323\n",
      "Epoch 4/15\n",
      "\u001b[1m50/50\u001b[0m \u001b[32m━━━━━━━━━━━━━━━━━━━━\u001b[0m\u001b[37m\u001b[0m \u001b[1m4s\u001b[0m 82ms/step - accuracy: 0.9918 - loss: 0.0283 - val_accuracy: 0.9075 - val_loss: 0.3402\n",
      "Epoch 5/15\n",
      "\u001b[1m50/50\u001b[0m \u001b[32m━━━━━━━━━━━━━━━━━━━━\u001b[0m\u001b[37m\u001b[0m \u001b[1m4s\u001b[0m 80ms/step - accuracy: 0.9881 - loss: 0.0368 - val_accuracy: 0.6913 - val_loss: 0.5804\n",
      "Epoch 6/15\n",
      "\u001b[1m50/50\u001b[0m \u001b[32m━━━━━━━━━━━━━━━━━━━━\u001b[0m\u001b[37m\u001b[0m \u001b[1m5s\u001b[0m 89ms/step - accuracy: 0.9913 - loss: 0.0255 - val_accuracy: 0.8087 - val_loss: 0.3884\n",
      "Epoch 7/15\n",
      "\u001b[1m50/50\u001b[0m \u001b[32m━━━━━━━━━━━━━━━━━━━━\u001b[0m\u001b[37m\u001b[0m \u001b[1m6s\u001b[0m 110ms/step - accuracy: 0.9950 - loss: 0.0247 - val_accuracy: 0.9538 - val_loss: 0.1509\n",
      "Epoch 8/15\n",
      "\u001b[1m50/50\u001b[0m \u001b[32m━━━━━━━━━━━━━━━━━━━━\u001b[0m\u001b[37m\u001b[0m \u001b[1m5s\u001b[0m 102ms/step - accuracy: 0.9934 - loss: 0.0236 - val_accuracy: 0.8225 - val_loss: 0.4302\n",
      "Epoch 9/15\n",
      "\u001b[1m50/50\u001b[0m \u001b[32m━━━━━━━━━━━━━━━━━━━━\u001b[0m\u001b[37m\u001b[0m \u001b[1m6s\u001b[0m 117ms/step - accuracy: 0.9940 - loss: 0.0165 - val_accuracy: 0.9787 - val_loss: 0.0626\n",
      "Epoch 10/15\n",
      "\u001b[1m50/50\u001b[0m \u001b[32m━━━━━━━━━━━━━━━━━━━━\u001b[0m\u001b[37m\u001b[0m \u001b[1m10s\u001b[0m 104ms/step - accuracy: 0.9944 - loss: 0.0198 - val_accuracy: 0.9650 - val_loss: 0.1042\n",
      "Epoch 11/15\n",
      "\u001b[1m50/50\u001b[0m \u001b[32m━━━━━━━━━━━━━━━━━━━━\u001b[0m\u001b[37m\u001b[0m \u001b[1m10s\u001b[0m 107ms/step - accuracy: 0.9924 - loss: 0.0205 - val_accuracy: 0.9875 - val_loss: 0.0460\n",
      "Epoch 12/15\n",
      "\u001b[1m50/50\u001b[0m \u001b[32m━━━━━━━━━━━━━━━━━━━━\u001b[0m\u001b[37m\u001b[0m \u001b[1m4s\u001b[0m 78ms/step - accuracy: 0.9959 - loss: 0.0134 - val_accuracy: 0.9700 - val_loss: 0.1001\n",
      "Epoch 13/15\n",
      "\u001b[1m50/50\u001b[0m \u001b[32m━━━━━━━━━━━━━━━━━━━━\u001b[0m\u001b[37m\u001b[0m \u001b[1m4s\u001b[0m 69ms/step - accuracy: 0.9891 - loss: 0.0260 - val_accuracy: 0.8675 - val_loss: 0.3523\n",
      "Epoch 14/15\n",
      "\u001b[1m50/50\u001b[0m \u001b[32m━━━━━━━━━━━━━━━━━━━━\u001b[0m\u001b[37m\u001b[0m \u001b[1m3s\u001b[0m 61ms/step - accuracy: 0.9958 - loss: 0.0160 - val_accuracy: 0.9600 - val_loss: 0.1386\n",
      "Epoch 15/15\n",
      "\u001b[1m50/50\u001b[0m \u001b[32m━━━━━━━━━━━━━━━━━━━━\u001b[0m\u001b[37m\u001b[0m \u001b[1m3s\u001b[0m 54ms/step - accuracy: 0.9970 - loss: 0.0087 - val_accuracy: 0.9862 - val_loss: 0.0451\n"
     ]
    },
    {
     "data": {
      "text/plain": [
       "<keras.src.callbacks.history.History at 0x1dda5c4e4b0>"
      ]
     },
     "execution_count": 3,
     "metadata": {},
     "output_type": "execute_result"
    }
   ],
   "source": [
    "modelA = build_cnn_attention_model()\n",
    "modelB = build_resnet_model()\n",
    "\n",
    "print(\"Training CNN + Attention (Method A)...\")\n",
    "modelA.fit(X_train, y_train, validation_split=0.2, epochs=15, batch_size=64)\n",
    "\n",
    "print(\"Training Improved ResNet (Method B)...\")\n",
    "modelB.fit(X_train, y_train, validation_split=0.2, epochs=15, batch_size=64)\n"
   ]
  },
  {
   "cell_type": "code",
   "execution_count": 4,
   "id": "04785090",
   "metadata": {},
   "outputs": [
    {
     "name": "stdout",
     "output_type": "stream",
     "text": [
      "\u001b[1m32/32\u001b[0m \u001b[32m━━━━━━━━━━━━━━━━━━━━\u001b[0m\u001b[37m\u001b[0m \u001b[1m1s\u001b[0m 32ms/step\n",
      "\u001b[1m32/32\u001b[0m \u001b[32m━━━━━━━━━━━━━━━━━━━━\u001b[0m\u001b[37m\u001b[0m \u001b[1m4s\u001b[0m 82ms/step\n"
     ]
    }
   ],
   "source": [
    "y_pred_A = modelA.predict(X_test)\n",
    "y_pred_B = modelB.predict(X_test)\n",
    "\n",
    "ensemble_probs = (y_pred_A + y_pred_B) / 2.0\n",
    "ensemble_preds = np.argmax(ensemble_probs, axis=1)\n",
    "y_true = np.argmax(y_test, axis=1)\n"
   ]
  },
  {
   "cell_type": "code",
   "execution_count": 5,
   "id": "ccf67700",
   "metadata": {},
   "outputs": [
    {
     "name": "stdout",
     "output_type": "stream",
     "text": [
      "              precision    recall  f1-score   support\n",
      "\n",
      "           0       0.99      1.00      0.99       591\n",
      "           4       1.00      0.98      0.99       409\n",
      "\n",
      "    accuracy                           0.99      1000\n",
      "   macro avg       0.99      0.99      0.99      1000\n",
      "weighted avg       0.99      0.99      0.99      1000\n",
      "\n"
     ]
    },
    {
     "data": {
      "image/png": "[encoded data removed]",
      "text/plain": [
       "<Figure size 800x600 with 2 Axes>"
      ]
     },
     "metadata": {},
     "output_type": "display_data"
    }
   ],
   "source": [
    "# Classification Report\n",
    "print(classification_report(y_true, ensemble_preds))\n",
    "\n",
    "# Confusion Matrix\n",
    "cm = confusion_matrix(y_true, ensemble_preds)\n",
    "plt.figure(figsize=(8, 6))\n",
    "sns.heatmap(cm, annot=True, fmt='d', cmap='Purples')\n",
    "plt.xlabel('Predicted')\n",
    "plt.ylabel('True')\n",
    "plt.title('Confusion Matrix - Ensemble (Method D)')\n",
    "plt.show()\n"
   ]
  },
  {
   "cell_type": "markdown",
   "id": "99ee664d",
   "metadata": {},
   "source": [
    "## Let's try another dataset"
   ]
  },
  {
   "cell_type": "code",
   "execution_count": 6,
   "id": "482a95dc",
   "metadata": {},
   "outputs": [
    {
     "name": "stdout",
     "output_type": "stream",
     "text": [
      "(87556, 187, 1) (87556, 5)\n"
     ]
    }
   ],
   "source": [
    "from ecgLoader import load_heartbeat_dataset\n",
    "\n",
    "X_train, X_test, y_train, y_test = load_heartbeat_dataset(one_hot=True)\n",
    "print(X_train.shape, y_train.shape)"
   ]
  },
  {
   "cell_type": "code",
   "execution_count": 7,
   "id": "6cb4c8b3",
   "metadata": {},
   "outputs": [],
   "source": [
    "def build_cnn_attention_model_heartbeat(input_shape=(187, 1), num_classes=5):\n",
    "    inputs = Input(shape=input_shape)\n",
    "    x = layers.Conv1D(64, kernel_size=5, activation='relu', padding='same')(inputs)\n",
    "    x = layers.MaxPooling1D(pool_size=2)(x)\n",
    "    x = layers.Conv1D(128, kernel_size=3, activation='relu', padding='same')(x)\n",
    "    x = layers.MaxPooling1D(pool_size=2)(x)\n",
    "    x = attention_block(x)\n",
    "    x = layers.Flatten()(x)\n",
    "    x = layers.Dense(64, activation='relu')(x)\n",
    "    outputs = layers.Dense(num_classes, activation='softmax')(x)\n",
    "    model = models.Model(inputs=inputs, outputs=outputs)\n",
    "    model.compile(optimizer='adam', loss='categorical_crossentropy', metrics=['accuracy'])\n",
    "    return model\n",
    "\n",
    "def build_resnet_model_heartbeat(input_shape=(187, 1), num_classes=5):\n",
    "    inputs = Input(shape=input_shape)\n",
    "    x = layers.Conv1D(64, kernel_size=7, strides=2, padding='same')(inputs)\n",
    "    x = layers.BatchNormalization()(x)\n",
    "    x = layers.ReLU()(x)\n",
    "    x = layers.MaxPooling1D(pool_size=3, strides=2, padding='same')(x)\n",
    "\n",
    "    x = residual_block(x, 64)\n",
    "    x = residual_block(x, 128)\n",
    "\n",
    "    x = layers.GlobalAveragePooling1D()(x)\n",
    "    x = layers.Dense(64, activation='relu')(x)\n",
    "    outputs = layers.Dense(num_classes, activation='softmax')(x)\n",
    "\n",
    "    model = models.Model(inputs, outputs)\n",
    "    model.compile(optimizer='adam', loss='categorical_crossentropy', metrics=['accuracy'])\n",
    "    return model"
   ]
  },
  {
   "cell_type": "code",
   "execution_count": 8,
   "id": "c7046e6b",
   "metadata": {},
   "outputs": [
    {
     "name": "stdout",
     "output_type": "stream",
     "text": [
      "Epoch 1/10\n",
      "\u001b[1m1095/1095\u001b[0m \u001b[32m━━━━━━━━━━━━━━━━━━━━\u001b[0m\u001b[37m\u001b[0m \u001b[1m87s\u001b[0m 57ms/step - accuracy: 0.8926 - loss: 0.4201 - val_accuracy: 0.9587 - val_loss: 0.1598\n",
      "Epoch 2/10\n",
      "\u001b[1m1095/1095\u001b[0m \u001b[32m━━━━━━━━━━━━━━━━━━━━\u001b[0m\u001b[37m\u001b[0m \u001b[1m57s\u001b[0m 52ms/step - accuracy: 0.9600 - loss: 0.1478 - val_accuracy: 0.9650 - val_loss: 0.1356\n",
      "Epoch 3/10\n",
      "\u001b[1m1095/1095\u001b[0m \u001b[32m━━━━━━━━━━━━━━━━━━━━\u001b[0m\u001b[37m\u001b[0m \u001b[1m82s\u001b[0m 52ms/step - accuracy: 0.9670 - loss: 0.1203 - val_accuracy: 0.9683 - val_loss: 0.1216\n",
      "Epoch 4/10\n",
      "\u001b[1m1095/1095\u001b[0m \u001b[32m━━━━━━━━━━━━━━━━━━━━\u001b[0m\u001b[37m\u001b[0m \u001b[1m50s\u001b[0m 46ms/step - accuracy: 0.9725 - loss: 0.1012 - val_accuracy: 0.9730 - val_loss: 0.0999\n",
      "Epoch 5/10\n",
      "\u001b[1m1095/1095\u001b[0m \u001b[32m━━━━━━━━━━━━━━━━━━━━\u001b[0m\u001b[37m\u001b[0m \u001b[1m59s\u001b[0m 54ms/step - accuracy: 0.9747 - loss: 0.0919 - val_accuracy: 0.9752 - val_loss: 0.0911\n",
      "Epoch 6/10\n",
      "\u001b[1m1095/1095\u001b[0m \u001b[32m━━━━━━━━━━━━━━━━━━━━\u001b[0m\u001b[37m\u001b[0m \u001b[1m66s\u001b[0m 60ms/step - accuracy: 0.9773 - loss: 0.0807 - val_accuracy: 0.9753 - val_loss: 0.0905\n",
      "Epoch 7/10\n",
      "\u001b[1m1095/1095\u001b[0m \u001b[32m━━━━━━━━━━━━━━━━━━━━\u001b[0m\u001b[37m\u001b[0m \u001b[1m74s\u001b[0m 67ms/step - accuracy: 0.9792 - loss: 0.0739 - val_accuracy: 0.9773 - val_loss: 0.0818\n",
      "Epoch 8/10\n",
      "\u001b[1m1095/1095\u001b[0m \u001b[32m━━━━━━━━━━━━━━━━━━━━\u001b[0m\u001b[37m\u001b[0m \u001b[1m78s\u001b[0m 71ms/step - accuracy: 0.9800 - loss: 0.0685 - val_accuracy: 0.9785 - val_loss: 0.0781\n",
      "Epoch 9/10\n",
      "\u001b[1m1095/1095\u001b[0m \u001b[32m━━━━━━━━━━━━━━━━━━━━\u001b[0m\u001b[37m\u001b[0m \u001b[1m79s\u001b[0m 72ms/step - accuracy: 0.9815 - loss: 0.0633 - val_accuracy: 0.9780 - val_loss: 0.0809\n",
      "Epoch 10/10\n",
      "\u001b[1m1095/1095\u001b[0m \u001b[32m━━━━━━━━━━━━━━━━━━━━\u001b[0m\u001b[37m\u001b[0m \u001b[1m65s\u001b[0m 56ms/step - accuracy: 0.9831 - loss: 0.0571 - val_accuracy: 0.9780 - val_loss: 0.0786\n",
      "Epoch 1/10\n",
      "\u001b[1m1095/1095\u001b[0m \u001b[32m━━━━━━━━━━━━━━━━━━━━\u001b[0m\u001b[37m\u001b[0m \u001b[1m199s\u001b[0m 124ms/step - accuracy: 0.9145 - loss: 0.2996 - val_accuracy: 0.8967 - val_loss: 0.3930\n",
      "Epoch 2/10\n",
      "\u001b[1m1095/1095\u001b[0m \u001b[32m━━━━━━━━━━━━━━━━━━━━\u001b[0m\u001b[37m\u001b[0m \u001b[1m109s\u001b[0m 100ms/step - accuracy: 0.9663 - loss: 0.1234 - val_accuracy: 0.9636 - val_loss: 0.1301\n",
      "Epoch 3/10\n",
      "\u001b[1m1095/1095\u001b[0m \u001b[32m━━━━━━━━━━━━━━━━━━━━\u001b[0m\u001b[37m\u001b[0m \u001b[1m126s\u001b[0m 115ms/step - accuracy: 0.9721 - loss: 0.1013 - val_accuracy: 0.9754 - val_loss: 0.0923\n",
      "Epoch 4/10\n",
      "\u001b[1m1095/1095\u001b[0m \u001b[32m━━━━━━━━━━━━━━━━━━━━\u001b[0m\u001b[37m\u001b[0m \u001b[1m135s\u001b[0m 123ms/step - accuracy: 0.9754 - loss: 0.0872 - val_accuracy: 0.9750 - val_loss: 0.0949\n",
      "Epoch 5/10\n",
      "\u001b[1m1095/1095\u001b[0m \u001b[32m━━━━━━━━━━━━━━━━━━━━\u001b[0m\u001b[37m\u001b[0m \u001b[1m80s\u001b[0m 73ms/step - accuracy: 0.9786 - loss: 0.0788 - val_accuracy: 0.9705 - val_loss: 0.1170\n",
      "Epoch 6/10\n",
      "\u001b[1m1095/1095\u001b[0m \u001b[32m━━━━━━━━━━━━━━━━━━━━\u001b[0m\u001b[37m\u001b[0m \u001b[1m89s\u001b[0m 82ms/step - accuracy: 0.9796 - loss: 0.0738 - val_accuracy: 0.9806 - val_loss: 0.0709\n",
      "Epoch 7/10\n",
      "\u001b[1m1095/1095\u001b[0m \u001b[32m━━━━━━━━━━━━━━━━━━━━\u001b[0m\u001b[37m\u001b[0m \u001b[1m130s\u001b[0m 71ms/step - accuracy: 0.9818 - loss: 0.0634 - val_accuracy: 0.9812 - val_loss: 0.0658\n",
      "Epoch 8/10\n",
      "\u001b[1m1095/1095\u001b[0m \u001b[32m━━━━━━━━━━━━━━━━━━━━\u001b[0m\u001b[37m\u001b[0m \u001b[1m78s\u001b[0m 71ms/step - accuracy: 0.9810 - loss: 0.0634 - val_accuracy: 0.9801 - val_loss: 0.0724\n",
      "Epoch 9/10\n",
      "\u001b[1m1095/1095\u001b[0m \u001b[32m━━━━━━━━━━━━━━━━━━━━\u001b[0m\u001b[37m\u001b[0m \u001b[1m78s\u001b[0m 68ms/step - accuracy: 0.9828 - loss: 0.0579 - val_accuracy: 0.9825 - val_loss: 0.0620\n",
      "Epoch 10/10\n",
      "\u001b[1m1095/1095\u001b[0m \u001b[32m━━━━━━━━━━━━━━━━━━━━\u001b[0m\u001b[37m\u001b[0m \u001b[1m62s\u001b[0m 57ms/step - accuracy: 0.9843 - loss: 0.0514 - val_accuracy: 0.9824 - val_loss: 0.0594\n",
      "\u001b[1m685/685\u001b[0m \u001b[32m━━━━━━━━━━━━━━━━━━━━\u001b[0m\u001b[37m\u001b[0m \u001b[1m7s\u001b[0m 9ms/step\n",
      "\u001b[1m685/685\u001b[0m \u001b[32m━━━━━━━━━━━━━━━━━━━━\u001b[0m\u001b[37m\u001b[0m \u001b[1m10s\u001b[0m 13ms/step\n"
     ]
    }
   ],
   "source": [
    "model_a = build_cnn_attention_model_heartbeat(input_shape=(187, 1), num_classes=5)\n",
    "model_b = build_resnet_model_heartbeat(input_shape=(187, 1), num_classes=5)\n",
    "\n",
    "\n",
    "history_a = model_a.fit(X_train, y_train, validation_split=0.2, epochs=10, batch_size=64)\n",
    "history_b = model_b.fit(X_train, y_train, validation_split=0.2, epochs=10, batch_size=64)\n",
    "\n",
    "y_pred_a = model_a.predict(X_test)\n",
    "y_pred_b = model_b.predict(X_test)\n",
    "\n",
    "ensemble_probs = (y_pred_a + y_pred_b) / 2.0\n",
    "ensemble_preds = np.argmax(ensemble_probs, axis=1)\n",
    "y_true = np.argmax(y_test, axis=1)\n"
   ]
  },
  {
   "cell_type": "code",
   "execution_count": 9,
   "id": "e921accb",
   "metadata": {},
   "outputs": [
    {
     "name": "stdout",
     "output_type": "stream",
     "text": [
      "\n",
      "Classification Report:\n",
      "              precision    recall  f1-score   support\n",
      "\n",
      "           0       0.99      1.00      0.99     18160\n",
      "           1       0.96      0.71      0.82       535\n",
      "           2       0.96      0.96      0.96      1402\n",
      "           3       0.94      0.70      0.80       158\n",
      "           4       0.99      0.98      0.99      1635\n",
      "\n",
      "    accuracy                           0.98     21890\n",
      "   macro avg       0.97      0.87      0.91     21890\n",
      "weighted avg       0.98      0.98      0.98     21890\n",
      "\n"
     ]
    },
    {
     "data": {
      "image/png": "[encoded data removed]",
      "text/plain": [
       "<Figure size 1000x800 with 2 Axes>"
      ]
     },
     "metadata": {},
     "output_type": "display_data"
    }
   ],
   "source": [
    "report = classification_report(y_true, ensemble_preds)\n",
    "conf_matrix = confusion_matrix(y_true, ensemble_preds)\n",
    "\n",
    "\n",
    "\n",
    "print(\"\\nClassification Report:\")\n",
    "print(report)\n",
    "\n",
    "plt.figure(figsize=(10, 8))\n",
    "sns.heatmap(conf_matrix, annot=True, fmt='d', cmap='Purples')\n",
    "plt.title(f'Confusion Matrix - Method D')\n",
    "plt.ylabel('True')\n",
    "plt.xlabel('Predicted')\n",
    "plt.show()"
   ]
  }
 ],
 "metadata": {
  "kernelspec": {
   "display_name": "base",
   "language": "python",
   "name": "python3"
  },
  "language_info": {
   "codemirror_mode": {
    "name": "ipython",
    "version": 3
   },
   "file_extension": ".py",
   "mimetype": "text/x-python",
   "name": "python",
   "nbconvert_exporter": "python",
   "pygments_lexer": "ipython3",
   "version": "3.12.7"
  }
 },
 "nbformat": 4,
 "nbformat_minor": 5
}
